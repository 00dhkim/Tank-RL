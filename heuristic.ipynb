{
 "cells": [
  {
   "cell_type": "markdown",
   "metadata": {},
   "source": [
    "## 탱크 전략\n",
    "\n",
    "1. 보이는 적을 잡을 수 있으면 쏜다 \n",
    "rotate-attack-attack 또는 move-attack-attack 또는 attack-attack\n",
    "\n",
    "2. 최대한 뒤로 간다\n",
    "뒤로 가다가 맞출 수 있으면, 가능한 최대한 쏜다\n",
    "\n",
    "3. 포신을 돌려 정찰한다 (앞과 대각선만)\n",
    "돌리다가 맞출 수 있으면, 가능한 최대한 쏜다\n",
    "\n"
   ]
  },
  {
   "cell_type": "code",
   "execution_count": null,
   "metadata": {},
   "outputs": [],
   "source": [
    "import sys\n",
    "import pylab\n",
    "import random\n",
    "import numpy as np\n",
    "import environment\n",
    "import requests"
   ]
  },
  {
   "cell_type": "code",
   "execution_count": null,
   "metadata": {},
   "outputs": [],
   "source": [
    "class HeuristicAgent:\n",
    "    def __init__(self):\n",
    "        pass\n",
    "    \n",
    "    "
   ]
  },
  {
   "cell_type": "code",
   "execution_count": null,
   "metadata": {},
   "outputs": [],
   "source": [
    "env = environment.Environment()\n",
    "agent = HeuristicAgent()\n",
    "\n",
    "ip = requests.get('http://api.ipify.org').text\n",
    "env.start(ip=ip)"
   ]
  },
  {
   "cell_type": "code",
   "execution_count": null,
   "metadata": {},
   "outputs": [],
   "source": [
    "done = False\n",
    "state = env.reset()\n",
    "while True:\n",
    "    agent.get_action(state)"
   ]
  }
 ],
 "metadata": {
  "language_info": {
   "name": "python"
  },
  "orig_nbformat": 4
 },
 "nbformat": 4,
 "nbformat_minor": 2
}
