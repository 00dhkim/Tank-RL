{
 "cells": [
  {
   "cell_type": "markdown",
   "metadata": {},
   "source": [
    "## 탱크 전략\n",
    "\n",
    "1. 보이는 적을 잡을 수 있으면 쏜다 \n",
    "rotate-attack-attack 또는 move-attack-attack 또는 attack-attack\n",
    "\n",
    "2. 최대한 뒤로 간다\n",
    "뒤로 가다가 맞출 수 있으면, 가능한 최대한 쏜다\n",
    "\n",
    "3. 포신을 돌려 정찰한다 (앞과 대각선만)\n",
    "돌리다가 맞출 수 있으면, 가능한 최대한 쏜다\n",
    "\n",
    "-----\n",
    "\n",
    "시야 내에 적이 있는지 확인\n",
    "시야 내의 적을 잡을 수 있는지? -> 잡을 수 있으면 쏜다\n",
    "\n",
    "남은 AP 전부 뒤로가기\n"
   ]
  },
  {
   "cell_type": "code",
   "execution_count": null,
   "metadata": {},
   "outputs": [],
   "source": [
    "import sys\n",
    "import pylab\n",
    "import random\n",
    "import numpy as np\n",
    "import environment\n",
    "import requests"
   ]
  },
  {
   "cell_type": "code",
   "execution_count": null,
   "metadata": {},
   "outputs": [],
   "source": [
    "env = environment.Environment()\n",
    "\n",
    "ip = requests.get('http://api.ipify.org').text\n",
    "env.start(ip=ip)\n",
    "state = env.reset()\n",
    "done = False"
   ]
  },
  {
   "cell_type": "code",
   "execution_count": 19,
   "metadata": {},
   "outputs": [
    {
     "name": "stdout",
     "output_type": "stream",
     "text": [
      "114604 -> move east\n",
      "114604 -> move east\n"
     ]
    }
   ],
   "source": [
    "ret = env.step([[5]])\n",
    "ret = env.step([[5]])"
   ]
  },
  {
   "cell_type": "code",
   "execution_count": null,
   "metadata": {},
   "outputs": [],
   "source": [
    "env.step([[7]])\n",
    "env.step([[7]])\n",
    "env.step([[7]])\n",
    "env.step([[7]])"
   ]
  },
  {
   "cell_type": "code",
   "execution_count": 20,
   "metadata": {},
   "outputs": [],
   "source": [
    "env.try_to_kill()"
   ]
  }
 ],
 "metadata": {
  "interpreter": {
   "hash": "2647ea34e536f865ab67ff9ddee7fd78773d956cec0cab53c79b32cd10da5d83"
  },
  "kernelspec": {
   "display_name": "Python 3.9.1 64-bit",
   "language": "python",
   "name": "python3"
  },
  "language_info": {
   "codemirror_mode": {
    "name": "ipython",
    "version": 3
   },
   "file_extension": ".py",
   "mimetype": "text/x-python",
   "name": "python",
   "nbconvert_exporter": "python",
   "pygments_lexer": "ipython3",
   "version": "3.9.1"
  },
  "orig_nbformat": 4
 },
 "nbformat": 4,
 "nbformat_minor": 2
}
